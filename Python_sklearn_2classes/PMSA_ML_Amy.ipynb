{
 "cells": [
  {
   "cell_type": "markdown",
   "metadata": {},
   "source": [
    "# PMSA Machine Learning \n",
    "1/2/2019\n",
    "Amy Jin"
   ]
  },
  {
   "cell_type": "code",
   "execution_count": 2,
   "metadata": {
    "ExecuteTime": {
     "end_time": "2019-01-02T21:47:55.923686Z",
     "start_time": "2019-01-02T21:47:54.242543Z"
    }
   },
   "outputs": [],
   "source": [
    "# Load libraries\n",
    "import pandas as pd\n",
    "import seaborn as sns\n",
    "import numpy as np\n",
    "from pandas.plotting import scatter_matrix\n",
    "import matplotlib.pyplot as plt\n",
    "from sklearn import model_selection\n",
    "from sklearn.metrics import classification_report\n",
    "from sklearn.metrics import confusion_matrix\n",
    "from sklearn.metrics import accuracy_score\n",
    "from sklearn.linear_model import LogisticRegression\n",
    "from sklearn.tree import DecisionTreeClassifier\n",
    "from sklearn.neighbors import KNeighborsClassifier\n",
    "from sklearn.discriminant_analysis import LinearDiscriminantAnalysis\n",
    "from sklearn.naive_bayes import GaussianNB\n",
    "from sklearn.svm import SVC\n",
    "from sklearn.model_selection import train_test_split\n",
    "from sklearn.tree import DecisionTreeClassifier\n",
    "#Import Random Forest Model\n",
    "from sklearn.ensemble import RandomForestClassifier\n",
    "from sklearn import tree\n",
    "from imblearn.over_sampling import SMOTE\n",
    "from sklearn.metrics import confusion_matrix\n",
    "from sklearn.metrics import classification_report\n",
    "from sklearn import metrics\n",
    "from sklearn.tree import DecisionTreeClassifier\n",
    "from sklearn.externals.six import StringIO  \n",
    "from IPython.display import Image  \n",
    "from sklearn.tree import export_graphviz\n",
    "from sklearn.ensemble import GradientBoostingClassifier\n",
    "from xgboost import XGBClassifier\n",
    "from sklearn.metrics import accuracy_score\n",
    "import lightgbm as lgb\n",
    "from catboost import CatBoostRegressor\n",
    "from sklearn.neighbors import KNeighborsClassifier\n",
    "from sklearn.decomposition import RandomizedPCA\n",
    "from sklearn.pipeline import make_pipeline\n",
    "from sklearn.naive_bayes import GaussianNB\n",
    "from collections import Counter\n",
    "from sklearn.decomposition import PCA\n",
    "from sklearn.discriminant_analysis import LinearDiscriminantAnalysis, QuadraticDiscriminantAnalysis\n",
    "# global import\n",
    "import os\n",
    "import sys\n",
    "import numpy as np\n",
    "import pandas as pd\n",
    "from collections import Counter\n",
    "import operator\n",
    "import time\n",
    "from imblearn.over_sampling import RandomOverSampler\n",
    "# Connect to Parenthood server\n",
    "import mysql.connector\n",
    "import sshtunnel\n",
    "import pureyaml\n"
   ]
  },
  {
   "cell_type": "markdown",
   "metadata": {},
   "source": [
    "## Split Data into Train and Test Sets\n",
    "We will split the loaded dataset (data_tax_10_patient_nonzero) into two, 80% of which we will use to train and validate our models and 20% that we will hold back as a test dataset."
   ]
  },
  {
   "cell_type": "code",
   "execution_count": 3,
   "metadata": {
    "ExecuteTime": {
     "end_time": "2019-01-02T21:49:51.265387Z",
     "start_time": "2019-01-02T21:48:37.196846Z"
    }
   },
   "outputs": [],
   "source": [
    "data_tax_10_patient_nonzero = pd.read_csv(\"/Users/yuejin/Desktop/PMSA_hop_ml_12182018/data_tax_10_patient_nonzero.csv\") "
   ]
  },
  {
   "cell_type": "code",
   "execution_count": 4,
   "metadata": {
    "ExecuteTime": {
     "end_time": "2019-01-02T21:50:10.989893Z",
     "start_time": "2019-01-02T21:50:00.154123Z"
    }
   },
   "outputs": [],
   "source": [
    "from sklearn.model_selection import train_test_split\n",
    "train, test = train_test_split(data_tax_10_patient_nonzero, test_size=0.2)"
   ]
  },
  {
   "cell_type": "code",
   "execution_count": 5,
   "metadata": {
    "ExecuteTime": {
     "end_time": "2019-01-02T21:50:14.991764Z",
     "start_time": "2019-01-02T21:50:14.970943Z"
    }
   },
   "outputs": [
    {
     "name": "stdout",
     "output_type": "stream",
     "text": [
      "(482549, 704)\n",
      "(120638, 704)\n"
     ]
    }
   ],
   "source": [
    "print train.shape\n",
    "print test.shape"
   ]
  },
  {
   "cell_type": "code",
   "execution_count": 6,
   "metadata": {
    "ExecuteTime": {
     "end_time": "2019-01-02T21:50:16.208618Z",
     "start_time": "2019-01-02T21:50:16.148127Z"
    }
   },
   "outputs": [
    {
     "name": "stdout",
     "output_type": "stream",
     "text": [
      "from_npi_tax_cd\n",
      "111N00000X    40746\n",
      "152W00000X    32774\n",
      "207L00000X    30418\n",
      "207P00000X    34170\n",
      "207Q00000X    85520\n",
      "207R00000X    80957\n",
      "225100000X    46399\n",
      "363A00000X    42451\n",
      "363LF0000X    54072\n",
      "367500000X    35042\n",
      "dtype: int64\n"
     ]
    }
   ],
   "source": [
    "print(train.groupby('from_npi_tax_cd').size())"
   ]
  },
  {
   "cell_type": "code",
   "execution_count": 7,
   "metadata": {
    "ExecuteTime": {
     "end_time": "2019-01-02T21:50:17.305811Z",
     "start_time": "2019-01-02T21:50:17.278916Z"
    }
   },
   "outputs": [
    {
     "name": "stdout",
     "output_type": "stream",
     "text": [
      "from_npi_tax_cd\n",
      "111N00000X    10058\n",
      "152W00000X     8376\n",
      "207L00000X     7658\n",
      "207P00000X     8717\n",
      "207Q00000X    21318\n",
      "207R00000X    20107\n",
      "225100000X    11547\n",
      "363A00000X    10597\n",
      "363LF0000X    13525\n",
      "367500000X     8735\n",
      "dtype: int64\n"
     ]
    }
   ],
   "source": [
    "print(test.groupby('from_npi_tax_cd').size())"
   ]
  },
  {
   "cell_type": "code",
   "execution_count": 8,
   "metadata": {
    "ExecuteTime": {
     "end_time": "2019-01-02T21:50:48.399616Z",
     "start_time": "2019-01-02T21:50:18.330619Z"
    }
   },
   "outputs": [
    {
     "data": {
      "text/html": [
       "<div>\n",
       "<style scoped>\n",
       "    .dataframe tbody tr th:only-of-type {\n",
       "        vertical-align: middle;\n",
       "    }\n",
       "\n",
       "    .dataframe tbody tr th {\n",
       "        vertical-align: top;\n",
       "    }\n",
       "\n",
       "    .dataframe thead th {\n",
       "        text-align: right;\n",
       "    }\n",
       "</style>\n",
       "<table border=\"1\" class=\"dataframe\">\n",
       "  <thead>\n",
       "    <tr style=\"text-align: right;\">\n",
       "      <th></th>\n",
       "      <th>patient_count_101y00000x</th>\n",
       "      <th>patient_count_101ya0400x</th>\n",
       "      <th>patient_count_101ym0800x</th>\n",
       "      <th>patient_count_101yp1600x</th>\n",
       "      <th>patient_count_101yp2500x</th>\n",
       "      <th>patient_count_101ys0200x</th>\n",
       "      <th>patient_count_102l00000x</th>\n",
       "      <th>patient_count_103g00000x</th>\n",
       "      <th>patient_count_103k00000x</th>\n",
       "      <th>patient_count_103t00000x</th>\n",
       "      <th>...</th>\n",
       "      <th>patient_count_374u00000x</th>\n",
       "      <th>patient_count_376g00000x</th>\n",
       "      <th>patient_count_376j00000x</th>\n",
       "      <th>patient_count_376k00000x</th>\n",
       "      <th>patient_count_385h00000x</th>\n",
       "      <th>patient_count_385hr2055x</th>\n",
       "      <th>patient_count_385hr2060x</th>\n",
       "      <th>patient_count_385hr2065x</th>\n",
       "      <th>patient_count_390200000x</th>\n",
       "      <th>patient_count_405300000x</th>\n",
       "    </tr>\n",
       "  </thead>\n",
       "  <tbody>\n",
       "    <tr>\n",
       "      <th>count</th>\n",
       "      <td>482549.000000</td>\n",
       "      <td>482549.000000</td>\n",
       "      <td>482549.000000</td>\n",
       "      <td>482549.000000</td>\n",
       "      <td>482549.000000</td>\n",
       "      <td>482549.000000</td>\n",
       "      <td>482549.000000</td>\n",
       "      <td>482549.000000</td>\n",
       "      <td>482549.000000</td>\n",
       "      <td>482549.000000</td>\n",
       "      <td>...</td>\n",
       "      <td>482549.000000</td>\n",
       "      <td>482549.000000</td>\n",
       "      <td>482549.000000</td>\n",
       "      <td>482549.000000</td>\n",
       "      <td>482549.000000</td>\n",
       "      <td>482549.000000</td>\n",
       "      <td>482549.000000</td>\n",
       "      <td>482549.000000</td>\n",
       "      <td>482549.000000</td>\n",
       "      <td>482549.000000</td>\n",
       "    </tr>\n",
       "    <tr>\n",
       "      <th>mean</th>\n",
       "      <td>0.155814</td>\n",
       "      <td>0.039809</td>\n",
       "      <td>0.435311</td>\n",
       "      <td>0.000526</td>\n",
       "      <td>0.091122</td>\n",
       "      <td>0.000172</td>\n",
       "      <td>0.016869</td>\n",
       "      <td>0.488804</td>\n",
       "      <td>0.012571</td>\n",
       "      <td>1.714135</td>\n",
       "      <td>...</td>\n",
       "      <td>0.005972</td>\n",
       "      <td>0.007442</td>\n",
       "      <td>0.003523</td>\n",
       "      <td>0.000999</td>\n",
       "      <td>0.015619</td>\n",
       "      <td>0.000052</td>\n",
       "      <td>0.000153</td>\n",
       "      <td>0.000249</td>\n",
       "      <td>16.278873</td>\n",
       "      <td>0.020730</td>\n",
       "    </tr>\n",
       "    <tr>\n",
       "      <th>std</th>\n",
       "      <td>5.931633</td>\n",
       "      <td>1.657005</td>\n",
       "      <td>7.167646</td>\n",
       "      <td>0.110611</td>\n",
       "      <td>3.313425</td>\n",
       "      <td>0.062501</td>\n",
       "      <td>1.271473</td>\n",
       "      <td>10.257812</td>\n",
       "      <td>1.111047</td>\n",
       "      <td>22.862028</td>\n",
       "      <td>...</td>\n",
       "      <td>0.545855</td>\n",
       "      <td>0.864914</td>\n",
       "      <td>0.625038</td>\n",
       "      <td>0.265627</td>\n",
       "      <td>1.520950</td>\n",
       "      <td>0.025468</td>\n",
       "      <td>0.048902</td>\n",
       "      <td>0.082971</td>\n",
       "      <td>231.891538</td>\n",
       "      <td>3.486836</td>\n",
       "    </tr>\n",
       "    <tr>\n",
       "      <th>min</th>\n",
       "      <td>0.000000</td>\n",
       "      <td>0.000000</td>\n",
       "      <td>0.000000</td>\n",
       "      <td>0.000000</td>\n",
       "      <td>0.000000</td>\n",
       "      <td>0.000000</td>\n",
       "      <td>0.000000</td>\n",
       "      <td>0.000000</td>\n",
       "      <td>0.000000</td>\n",
       "      <td>0.000000</td>\n",
       "      <td>...</td>\n",
       "      <td>0.000000</td>\n",
       "      <td>0.000000</td>\n",
       "      <td>0.000000</td>\n",
       "      <td>0.000000</td>\n",
       "      <td>0.000000</td>\n",
       "      <td>0.000000</td>\n",
       "      <td>0.000000</td>\n",
       "      <td>0.000000</td>\n",
       "      <td>0.000000</td>\n",
       "      <td>0.000000</td>\n",
       "    </tr>\n",
       "    <tr>\n",
       "      <th>25%</th>\n",
       "      <td>0.000000</td>\n",
       "      <td>0.000000</td>\n",
       "      <td>0.000000</td>\n",
       "      <td>0.000000</td>\n",
       "      <td>0.000000</td>\n",
       "      <td>0.000000</td>\n",
       "      <td>0.000000</td>\n",
       "      <td>0.000000</td>\n",
       "      <td>0.000000</td>\n",
       "      <td>0.000000</td>\n",
       "      <td>...</td>\n",
       "      <td>0.000000</td>\n",
       "      <td>0.000000</td>\n",
       "      <td>0.000000</td>\n",
       "      <td>0.000000</td>\n",
       "      <td>0.000000</td>\n",
       "      <td>0.000000</td>\n",
       "      <td>0.000000</td>\n",
       "      <td>0.000000</td>\n",
       "      <td>0.000000</td>\n",
       "      <td>0.000000</td>\n",
       "    </tr>\n",
       "    <tr>\n",
       "      <th>50%</th>\n",
       "      <td>0.000000</td>\n",
       "      <td>0.000000</td>\n",
       "      <td>0.000000</td>\n",
       "      <td>0.000000</td>\n",
       "      <td>0.000000</td>\n",
       "      <td>0.000000</td>\n",
       "      <td>0.000000</td>\n",
       "      <td>0.000000</td>\n",
       "      <td>0.000000</td>\n",
       "      <td>0.000000</td>\n",
       "      <td>...</td>\n",
       "      <td>0.000000</td>\n",
       "      <td>0.000000</td>\n",
       "      <td>0.000000</td>\n",
       "      <td>0.000000</td>\n",
       "      <td>0.000000</td>\n",
       "      <td>0.000000</td>\n",
       "      <td>0.000000</td>\n",
       "      <td>0.000000</td>\n",
       "      <td>0.000000</td>\n",
       "      <td>0.000000</td>\n",
       "    </tr>\n",
       "    <tr>\n",
       "      <th>75%</th>\n",
       "      <td>0.000000</td>\n",
       "      <td>0.000000</td>\n",
       "      <td>0.000000</td>\n",
       "      <td>0.000000</td>\n",
       "      <td>0.000000</td>\n",
       "      <td>0.000000</td>\n",
       "      <td>0.000000</td>\n",
       "      <td>0.000000</td>\n",
       "      <td>0.000000</td>\n",
       "      <td>0.000000</td>\n",
       "      <td>...</td>\n",
       "      <td>0.000000</td>\n",
       "      <td>0.000000</td>\n",
       "      <td>0.000000</td>\n",
       "      <td>0.000000</td>\n",
       "      <td>0.000000</td>\n",
       "      <td>0.000000</td>\n",
       "      <td>0.000000</td>\n",
       "      <td>0.000000</td>\n",
       "      <td>0.000000</td>\n",
       "      <td>0.000000</td>\n",
       "    </tr>\n",
       "    <tr>\n",
       "      <th>max</th>\n",
       "      <td>2491.000000</td>\n",
       "      <td>466.000000</td>\n",
       "      <td>1264.000000</td>\n",
       "      <td>42.000000</td>\n",
       "      <td>1486.000000</td>\n",
       "      <td>29.000000</td>\n",
       "      <td>400.000000</td>\n",
       "      <td>1607.000000</td>\n",
       "      <td>353.000000</td>\n",
       "      <td>3354.000000</td>\n",
       "      <td>...</td>\n",
       "      <td>132.000000</td>\n",
       "      <td>275.000000</td>\n",
       "      <td>295.000000</td>\n",
       "      <td>147.000000</td>\n",
       "      <td>714.000000</td>\n",
       "      <td>13.000000</td>\n",
       "      <td>19.000000</td>\n",
       "      <td>40.000000</td>\n",
       "      <td>77675.000000</td>\n",
       "      <td>2342.000000</td>\n",
       "    </tr>\n",
       "  </tbody>\n",
       "</table>\n",
       "<p>8 rows × 703 columns</p>\n",
       "</div>"
      ],
      "text/plain": [
       "       patient_count_101y00000x  patient_count_101ya0400x  \\\n",
       "count             482549.000000             482549.000000   \n",
       "mean                   0.155814                  0.039809   \n",
       "std                    5.931633                  1.657005   \n",
       "min                    0.000000                  0.000000   \n",
       "25%                    0.000000                  0.000000   \n",
       "50%                    0.000000                  0.000000   \n",
       "75%                    0.000000                  0.000000   \n",
       "max                 2491.000000                466.000000   \n",
       "\n",
       "       patient_count_101ym0800x  patient_count_101yp1600x  \\\n",
       "count             482549.000000             482549.000000   \n",
       "mean                   0.435311                  0.000526   \n",
       "std                    7.167646                  0.110611   \n",
       "min                    0.000000                  0.000000   \n",
       "25%                    0.000000                  0.000000   \n",
       "50%                    0.000000                  0.000000   \n",
       "75%                    0.000000                  0.000000   \n",
       "max                 1264.000000                 42.000000   \n",
       "\n",
       "       patient_count_101yp2500x  patient_count_101ys0200x  \\\n",
       "count             482549.000000             482549.000000   \n",
       "mean                   0.091122                  0.000172   \n",
       "std                    3.313425                  0.062501   \n",
       "min                    0.000000                  0.000000   \n",
       "25%                    0.000000                  0.000000   \n",
       "50%                    0.000000                  0.000000   \n",
       "75%                    0.000000                  0.000000   \n",
       "max                 1486.000000                 29.000000   \n",
       "\n",
       "       patient_count_102l00000x  patient_count_103g00000x  \\\n",
       "count             482549.000000             482549.000000   \n",
       "mean                   0.016869                  0.488804   \n",
       "std                    1.271473                 10.257812   \n",
       "min                    0.000000                  0.000000   \n",
       "25%                    0.000000                  0.000000   \n",
       "50%                    0.000000                  0.000000   \n",
       "75%                    0.000000                  0.000000   \n",
       "max                  400.000000               1607.000000   \n",
       "\n",
       "       patient_count_103k00000x  patient_count_103t00000x  \\\n",
       "count             482549.000000             482549.000000   \n",
       "mean                   0.012571                  1.714135   \n",
       "std                    1.111047                 22.862028   \n",
       "min                    0.000000                  0.000000   \n",
       "25%                    0.000000                  0.000000   \n",
       "50%                    0.000000                  0.000000   \n",
       "75%                    0.000000                  0.000000   \n",
       "max                  353.000000               3354.000000   \n",
       "\n",
       "                 ...             patient_count_374u00000x  \\\n",
       "count            ...                        482549.000000   \n",
       "mean             ...                             0.005972   \n",
       "std              ...                             0.545855   \n",
       "min              ...                             0.000000   \n",
       "25%              ...                             0.000000   \n",
       "50%              ...                             0.000000   \n",
       "75%              ...                             0.000000   \n",
       "max              ...                           132.000000   \n",
       "\n",
       "       patient_count_376g00000x  patient_count_376j00000x  \\\n",
       "count             482549.000000             482549.000000   \n",
       "mean                   0.007442                  0.003523   \n",
       "std                    0.864914                  0.625038   \n",
       "min                    0.000000                  0.000000   \n",
       "25%                    0.000000                  0.000000   \n",
       "50%                    0.000000                  0.000000   \n",
       "75%                    0.000000                  0.000000   \n",
       "max                  275.000000                295.000000   \n",
       "\n",
       "       patient_count_376k00000x  patient_count_385h00000x  \\\n",
       "count             482549.000000             482549.000000   \n",
       "mean                   0.000999                  0.015619   \n",
       "std                    0.265627                  1.520950   \n",
       "min                    0.000000                  0.000000   \n",
       "25%                    0.000000                  0.000000   \n",
       "50%                    0.000000                  0.000000   \n",
       "75%                    0.000000                  0.000000   \n",
       "max                  147.000000                714.000000   \n",
       "\n",
       "       patient_count_385hr2055x  patient_count_385hr2060x  \\\n",
       "count             482549.000000             482549.000000   \n",
       "mean                   0.000052                  0.000153   \n",
       "std                    0.025468                  0.048902   \n",
       "min                    0.000000                  0.000000   \n",
       "25%                    0.000000                  0.000000   \n",
       "50%                    0.000000                  0.000000   \n",
       "75%                    0.000000                  0.000000   \n",
       "max                   13.000000                 19.000000   \n",
       "\n",
       "       patient_count_385hr2065x  patient_count_390200000x  \\\n",
       "count             482549.000000             482549.000000   \n",
       "mean                   0.000249                 16.278873   \n",
       "std                    0.082971                231.891538   \n",
       "min                    0.000000                  0.000000   \n",
       "25%                    0.000000                  0.000000   \n",
       "50%                    0.000000                  0.000000   \n",
       "75%                    0.000000                  0.000000   \n",
       "max                   40.000000              77675.000000   \n",
       "\n",
       "       patient_count_405300000x  \n",
       "count             482549.000000  \n",
       "mean                   0.020730  \n",
       "std                    3.486836  \n",
       "min                    0.000000  \n",
       "25%                    0.000000  \n",
       "50%                    0.000000  \n",
       "75%                    0.000000  \n",
       "max                 2342.000000  \n",
       "\n",
       "[8 rows x 703 columns]"
      ]
     },
     "execution_count": 8,
     "metadata": {},
     "output_type": "execute_result"
    }
   ],
   "source": [
    "train.describe()"
   ]
  },
  {
   "cell_type": "markdown",
   "metadata": {},
   "source": [
    "# Logistic Regression "
   ]
  },
  {
   "cell_type": "code",
   "execution_count": null,
   "metadata": {},
   "outputs": [],
   "source": []
  },
  {
   "cell_type": "code",
   "execution_count": null,
   "metadata": {},
   "outputs": [],
   "source": []
  },
  {
   "cell_type": "code",
   "execution_count": null,
   "metadata": {},
   "outputs": [],
   "source": []
  },
  {
   "cell_type": "code",
   "execution_count": null,
   "metadata": {},
   "outputs": [],
   "source": []
  },
  {
   "cell_type": "code",
   "execution_count": null,
   "metadata": {},
   "outputs": [],
   "source": []
  },
  {
   "cell_type": "code",
   "execution_count": null,
   "metadata": {},
   "outputs": [],
   "source": []
  },
  {
   "cell_type": "code",
   "execution_count": null,
   "metadata": {},
   "outputs": [],
   "source": []
  },
  {
   "cell_type": "code",
   "execution_count": null,
   "metadata": {},
   "outputs": [],
   "source": []
  },
  {
   "cell_type": "code",
   "execution_count": null,
   "metadata": {},
   "outputs": [],
   "source": []
  },
  {
   "cell_type": "code",
   "execution_count": null,
   "metadata": {},
   "outputs": [],
   "source": []
  },
  {
   "cell_type": "code",
   "execution_count": null,
   "metadata": {},
   "outputs": [],
   "source": []
  },
  {
   "cell_type": "code",
   "execution_count": null,
   "metadata": {},
   "outputs": [],
   "source": []
  },
  {
   "cell_type": "code",
   "execution_count": null,
   "metadata": {},
   "outputs": [],
   "source": []
  },
  {
   "cell_type": "code",
   "execution_count": null,
   "metadata": {},
   "outputs": [],
   "source": []
  },
  {
   "cell_type": "code",
   "execution_count": null,
   "metadata": {},
   "outputs": [],
   "source": []
  }
 ],
 "metadata": {
  "kernelspec": {
   "display_name": "Python 3",
   "language": "python",
   "name": "python3"
  },
  "language_info": {
   "codemirror_mode": {
    "name": "ipython",
    "version": 3
   },
   "file_extension": ".py",
   "mimetype": "text/x-python",
   "name": "python",
   "nbconvert_exporter": "python",
   "pygments_lexer": "ipython3",
   "version": "3.6.4"
  },
  "varInspector": {
   "cols": {
    "lenName": 16,
    "lenType": 16,
    "lenVar": 40
   },
   "kernels_config": {
    "python": {
     "delete_cmd_postfix": "",
     "delete_cmd_prefix": "del ",
     "library": "var_list.py",
     "varRefreshCmd": "print(var_dic_list())"
    },
    "r": {
     "delete_cmd_postfix": ") ",
     "delete_cmd_prefix": "rm(",
     "library": "var_list.r",
     "varRefreshCmd": "cat(var_dic_list()) "
    }
   },
   "types_to_exclude": [
    "module",
    "function",
    "builtin_function_or_method",
    "instance",
    "_Feature"
   ],
   "window_display": false
  }
 },
 "nbformat": 4,
 "nbformat_minor": 2
}
