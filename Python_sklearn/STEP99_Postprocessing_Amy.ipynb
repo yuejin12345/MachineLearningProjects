{
 "cells": [
  {
   "cell_type": "markdown",
   "metadata": {},
   "source": [
    "# Upload Predations to Parenthood Server\n",
    "Amy Jin\n",
    "\n",
    "July 6th, 2018\n",
    "\n",
    "This part is to push ML model predictions to database. "
   ]
  },
  {
   "cell_type": "markdown",
   "metadata": {},
   "source": [
    "### Connect to & Push Data to Parenthood Server"
   ]
  },
  {
   "cell_type": "code",
   "execution_count": 62,
   "metadata": {},
   "outputs": [],
   "source": [
    "# global import\n",
    "import os\n",
    "import sys\n",
    "import numpy as np\n",
    "import pandas as pd\n",
    "from collections import Counter\n",
    "import operator\n",
    "import time\n",
    "\n",
    "# Connect to Parenthood server\n",
    "import mysql.connector\n",
    "import sshtunnel\n",
    "import pureyaml\n",
    "\n",
    "# handle path\n",
    "project_dir = !pwd  # dir of current script/notebook file\n",
    "config_file = open(project_dir[0] + \"/db.yaml\")\n",
    "config = pureyaml.load(config_file.read())\n",
    "config_file2 = open(project_dir[0] + \"/db2.yaml\")\n",
    "config2 = pureyaml.load(config_file2.read())\n",
    "\n",
    "# argument dictionary for sshtunnel\n",
    "ssh_config = {\n",
    "    'ssh_address_or_host': ('parenthood.set.care', 22),\n",
    "    'ssh_username':        config['ssh_username'],\n",
    "    'ssh_password':        config['ssh_password'],\n",
    "    'remote_bind_address': ('127.0.0.1', 3306),\n",
    "    'local_bind_address':  ('0.0.0.0', 3333),\n",
    "}\n",
    "\n",
    "# argument dictionary for mysql.connector\n",
    "mysql_config = {\n",
    "    'user':     config['mysql_user'],\n",
    "    'password': config['mysql_passwd'],\n",
    "    'host':     config['mysql_host'],\n",
    "    'database': 'patch',\n",
    "    'port':     3333,\n",
    "}"
   ]
  },
  {
   "cell_type": "code",
   "execution_count": 61,
   "metadata": {},
   "outputs": [
    {
     "name": "stdout",
     "output_type": "stream",
     "text": [
      "   feature1  feature2  class\n",
      "0  0.548814  0.791725      1\n",
      "1  0.715189  0.528895      0\n",
      "2  0.602763  0.568045      0\n",
      "3  0.544883  0.925597      0\n",
      "4  0.423655  0.071036      0\n",
      "5  0.645894  0.087129      0\n",
      "6  0.437587  0.020218      0\n",
      "7  0.891773  0.832620      1\n",
      "8  0.963663  0.778157      0\n",
      "9  0.383442  0.870012      0\n"
     ]
    }
   ],
   "source": [
    "# Create dataframe\n",
    "import pandas as pd\n",
    "import numpy as np\n",
    "\n",
    "np.random.seed(0)\n",
    "number_of_samples = 10\n",
    "test_df_2 = pd.DataFrame({\n",
    "    'feature1': np.random.random(number_of_samples),\n",
    "    'feature2': np.random.random(number_of_samples),\n",
    "    'class':    np.random.binomial(2, 0.1, size=number_of_samples),\n",
    "    },columns=['feature1','feature2','class'])\n",
    "\n",
    "print(test_df_2)"
   ]
  },
  {
   "cell_type": "code",
   "execution_count": 64,
   "metadata": {
    "scrolled": true
   },
   "outputs": [
    {
     "name": "stdout",
     "output_type": "stream",
     "text": [
      "SSH tunneling successful on port: 3333\n",
      "MySQL server connected successfully!\n",
      "Data has been uploaded to MySQL server successfully!\n"
     ]
    }
   ],
   "source": [
    "with sshtunnel.SSHTunnelForwarder(**ssh_config) as tunnel:\n",
    "    print('SSH tunneling successful on port: {}'.format(tunnel.local_bind_port))\n",
    "    connection = mysql.connector.connect(**mysql_config)\n",
    "    cur = connection.cursor()\n",
    "    print('MySQL server connected successfully!')\n",
    "    \n",
    "    # Import dataframe into MySQL\n",
    "    import sqlalchemy\n",
    "    database_username = config2['database_username']\n",
    "    database_password = config2['database_password']\n",
    "    database_ip       = config2['database_ip']\n",
    "    database_name     = 'ml_provider_type'\n",
    "    database_connection = sqlalchemy.create_engine('mysql+pymysql://{0}:{1}@{2}/{3}'.\n",
    "                                                   format(database_username, database_password, \n",
    "                                                          database_ip, database_name))\n",
    "    test_df_2.to_sql(con=database_connection, name='test_table', if_exists='replace')\n",
    "    print('Data has been uploaded to MySQL server successfully!')"
   ]
  },
  {
   "cell_type": "code",
   "execution_count": 55,
   "metadata": {},
   "outputs": [],
   "source": [
    "def UploadPredictionsToParenthood(db_name, db_table_name, table_to_upload):\n",
    "\n",
    "        \n",
    "    #table1 = str(db_name) + '.' + str(table_name)\n",
    "    with sshtunnel.SSHTunnelForwarder(**ssh_config) as tunnel:\n",
    "\n",
    "        connection = mysql.connector.connect(**mysql_config)\n",
    "        cur = connection.cursor()\n",
    "        \n",
    "        # Import dataframe into MySQL\n",
    "        import sqlalchemy\n",
    "        database_username = config2['database_username']\n",
    "        database_password = config2['database_password']\n",
    "        database_ip       = config2['database_ip']\n",
    "        database_name     = db_name\n",
    "    \n",
    "        database_connection = sqlalchemy.create_engine('mysql+pymysql://{0}:{1}@{2}/{3}'.\n",
    "                                                       format(database_username, database_password, \n",
    "                                                              database_ip, database_name))\n",
    "        table_to_upload.to_sql(con=database_connection, name= db_table_name, if_exists='replace')\n",
    "        print \"Table has been dropped successfully!\"\n",
    "            \n",
    "        cur.close()\n",
    "        connection.close()\n"
   ]
  },
  {
   "cell_type": "code",
   "execution_count": 56,
   "metadata": {},
   "outputs": [
    {
     "name": "stdout",
     "output_type": "stream",
     "text": [
      "Table has been dropped successfully!\n"
     ]
    }
   ],
   "source": [
    "UploadPredictionsToParenthood('ml_provider_type','test_table_2', test_df_2)"
   ]
  },
  {
   "cell_type": "code",
   "execution_count": 30,
   "metadata": {},
   "outputs": [],
   "source": [
    "def DropTableInParenthood(db_name, table_to_drop):\n",
    "        #table1 = str(db_name) + '.' + str(table_name)\n",
    "    with sshtunnel.SSHTunnelForwarder(**ssh_config) as tunnel:\n",
    "        \n",
    "        connection = mysql.connector.connect(**mysql_config)\n",
    "        cur = connection.cursor()\n",
    "        \n",
    "        # SQL Statement to delete a database\n",
    "        sql = ('''DROP TABLE IF EXISTS {db}.{t};'''.format(db = db_name, t = table_to_drop))\n",
    "\n",
    "        # Execute the create database SQL statment through the cursor instance\n",
    "        cur.execute(sql)\n",
    "        print \"Table has been dropped successfully!\"\n",
    "\n",
    "        # SQL query string\n",
    "        sqlQuery            = ('''SHOW TABLES IN {db};'''.format(db = db_name))\n",
    "\n",
    "        # Execute the sqlQuery\n",
    "        cur.execute(sqlQuery)\n",
    "        \n",
    "        print 'Tables in the database are:'\n",
    "        for row in cur.fetchall():\n",
    "            for i in range(0,len(row)):\n",
    "                print row[i]\n",
    "    \n",
    "        connection.close()"
   ]
  },
  {
   "cell_type": "code",
   "execution_count": 33,
   "metadata": {},
   "outputs": [
    {
     "name": "stdout",
     "output_type": "stream",
     "text": [
      "Table has been dropped successfully!\n",
      "Tables in the database are:\n",
      "final_table\n",
      "first_list\n",
      "step_80053\n",
      "step_82728\n",
      "step_83550\n",
      "step_83615\n",
      "step_96361\n",
      "step_96367\n",
      "step_96413\n",
      "step_G0008\n",
      "step_J3490\n",
      "step_Q2037\n"
     ]
    }
   ],
   "source": [
    "DropTableInParenthood('ml_provider_type','test_table_2')"
   ]
  },
  {
   "cell_type": "markdown",
   "metadata": {},
   "source": [
    "Reference: https://stackoverflow.com/questions/16476413/how-to-insert-pandas-dataframe-via-mysqldb-into-database\n",
    "https://www.youtube.com/watch?v=i35OSGXt7wk https://pythontic.com/database/mysql/drop%20database"
   ]
  },
  {
   "cell_type": "code",
   "execution_count": null,
   "metadata": {},
   "outputs": [],
   "source": []
  }
 ],
 "metadata": {
  "kernelspec": {
   "display_name": "Python 2",
   "language": "python",
   "name": "python2"
  },
  "language_info": {
   "codemirror_mode": {
    "name": "ipython",
    "version": 2
   },
   "file_extension": ".py",
   "mimetype": "text/x-python",
   "name": "python",
   "nbconvert_exporter": "python",
   "pygments_lexer": "ipython2",
   "version": "2.7.15"
  }
 },
 "nbformat": 4,
 "nbformat_minor": 2
}
